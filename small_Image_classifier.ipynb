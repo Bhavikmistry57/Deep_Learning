{
 "cells": [
  {
   "cell_type": "code",
   "execution_count": null,
   "metadata": {
    "id": "bbv_Bwbs9NAi"
   },
   "outputs": [],
   "source": [
    "import tensorflow as tf\n",
    "from tensorflow import keras\n",
    "import matplotlib.pyplot as plt\n",
    "import numpy as np"
   ]
  },
  {
   "cell_type": "code",
   "execution_count": null,
   "metadata": {
    "colab": {
     "base_uri": "https://localhost:8080/"
    },
    "id": "RSM64anU-B0h",
    "outputId": "44212b83-ec88-48f8-92a6-1ee94b14a2ac"
   },
   "outputs": [
    {
     "data": {
      "text/plain": [
       "[PhysicalDevice(name='/physical_device:CPU:0', device_type='CPU'),\n",
       " PhysicalDevice(name='/physical_device:GPU:0', device_type='GPU')]"
      ]
     },
     "execution_count": 4,
     "metadata": {},
     "output_type": "execute_result"
    }
   ],
   "source": [
    "tf.config.experimental.list_physical_devices()"
   ]
  },
  {
   "cell_type": "code",
   "execution_count": null,
   "metadata": {
    "colab": {
     "base_uri": "https://localhost:8080/"
    },
    "id": "NXBafI_z9cwF",
    "outputId": "a2b78c7a-b446-4a74-a2b3-0a8f3486272e"
   },
   "outputs": [
    {
     "data": {
      "text/plain": [
       "True"
      ]
     },
     "execution_count": 5,
     "metadata": {},
     "output_type": "execute_result"
    }
   ],
   "source": [
    "tf.test.is_built_with_cuda()"
   ]
  },
  {
   "cell_type": "code",
   "execution_count": null,
   "metadata": {
    "colab": {
     "base_uri": "https://localhost:8080/"
    },
    "id": "dcKyQ6Tx-0py",
    "outputId": "8d40d00f-7806-418f-d045-e02705adafc9"
   },
   "outputs": [
    {
     "name": "stdout",
     "output_type": "stream",
     "text": [
      "Downloading data from https://www.cs.toronto.edu/~kriz/cifar-10-python.tar.gz\n",
      "170498071/170498071 [==============================] - 4s 0us/step\n"
     ]
    }
   ],
   "source": [
    "(x_train, y_train), (x_test, y_test) = tf.keras.datasets.cifar10.load_data()"
   ]
  },
  {
   "cell_type": "code",
   "execution_count": null,
   "metadata": {
    "colab": {
     "base_uri": "https://localhost:8080/",
     "height": 283
    },
    "id": "uL00UDC3B4LH",
    "outputId": "548cc266-f5ee-493b-cad6-7632edd374e6"
   },
   "outputs": [
    {
     "data": {
      "text/plain": [
       "<matplotlib.image.AxesImage at 0x7f26403b1550>"
      ]
     },
     "execution_count": 7,
     "metadata": {},
     "output_type": "execute_result"
    },
    {
     "data": {
      "image/png": "[encoded data removed]",
      "text/plain": [
       "<Figure size 432x288 with 1 Axes>"
      ]
     },
     "metadata": {
      "needs_background": "light"
     },
     "output_type": "display_data"
    }
   ],
   "source": [
    "plt.imshow(x_train[0])"
   ]
  },
  {
   "cell_type": "code",
   "execution_count": null,
   "metadata": {
    "colab": {
     "base_uri": "https://localhost:8080/"
    },
    "id": "XEk0UvrI_mzd",
    "outputId": "4a883af5-223c-4dd3-a43e-9f46b94df6cb"
   },
   "outputs": [
    {
     "data": {
      "text/plain": [
       "(50000, 32, 32, 3)"
      ]
     },
     "execution_count": 8,
     "metadata": {},
     "output_type": "execute_result"
    }
   ],
   "source": [
    "x_train.shape"
   ]
  },
  {
   "cell_type": "code",
   "execution_count": null,
   "metadata": {
    "colab": {
     "base_uri": "https://localhost:8080/"
    },
    "id": "4XWW1lR7_rHR",
    "outputId": "e1a95532-4115-4ba4-be8c-9a202cf2170d"
   },
   "outputs": [
    {
     "data": {
      "text/plain": [
       "(32, 32, 3)"
      ]
     },
     "execution_count": 9,
     "metadata": {},
     "output_type": "execute_result"
    }
   ],
   "source": [
    "x_train[0].shape"
   ]
  },
  {
   "cell_type": "code",
   "execution_count": null,
   "metadata": {
    "colab": {
     "base_uri": "https://localhost:8080/"
    },
    "id": "sflqPyqWAdXo",
    "outputId": "e2abfd21-0182-4fcc-cad6-00270939784d"
   },
   "outputs": [
    {
     "data": {
      "text/plain": [
       "(50000, 1)"
      ]
     },
     "execution_count": 10,
     "metadata": {},
     "output_type": "execute_result"
    }
   ],
   "source": [
    "y_train.shape"
   ]
  },
  {
   "cell_type": "code",
   "execution_count": null,
   "metadata": {
    "colab": {
     "base_uri": "https://localhost:8080/"
    },
    "id": "sAk9A5XEAqB9",
    "outputId": "72457f4c-89c5-457d-d8b6-a6c8813f783e"
   },
   "outputs": [
    {
     "data": {
      "text/plain": [
       "array([[6],\n",
       "       [9],\n",
       "       [9],\n",
       "       [4],\n",
       "       [1]], dtype=uint8)"
      ]
     },
     "execution_count": 11,
     "metadata": {},
     "output_type": "execute_result"
    }
   ],
   "source": [
    "y_train[0:5]"
   ]
  },
  {
   "cell_type": "code",
   "execution_count": null,
   "metadata": {
    "id": "4hEp6gIoBASc"
   },
   "outputs": [],
   "source": [
    "def plot_sample(index):\n",
    "  plt.figure(figsize = (10,1))\n",
    "  plt.imshow(x_train[index])"
   ]
  },
  {
   "cell_type": "code",
   "execution_count": null,
   "metadata": {
    "colab": {
     "base_uri": "https://localhost:8080/",
     "height": 105
    },
    "id": "4X9tt1S8Bud9",
    "outputId": "de32a5ef-b0e7-4919-d1c2-5e31cc395e8b"
   },
   "outputs": [
    {
     "data": {
      "image/png": "[encoded data removed]",
      "text/plain": [
       "<Figure size 720x72 with 1 Axes>"
      ]
     },
     "metadata": {
      "needs_background": "light"
     },
     "output_type": "display_data"
    }
   ],
   "source": [
    "plot_sample(0)"
   ]
  },
  {
   "cell_type": "code",
   "execution_count": null,
   "metadata": {
    "id": "twmPth4XCyVH"
   },
   "outputs": [],
   "source": [
    "classes = [\"airplane\",\"automobile\",\"bird\",\"cat\",\"deer\",\"dog\",\"frog\",\"horse\",\"ship\",\"truck\"]"
   ]
  },
  {
   "cell_type": "code",
   "execution_count": null,
   "metadata": {
    "colab": {
     "base_uri": "https://localhost:8080/",
     "height": 105
    },
    "id": "pOrJkZs4C_ZP",
    "outputId": "3661f82a-38e6-4dc6-91b3-5d4c13e0d5b2"
   },
   "outputs": [
    {
     "data": {
      "image/png": "[encoded data removed]",
      "text/plain": [
       "<Figure size 720x72 with 1 Axes>"
      ]
     },
     "metadata": {
      "needs_background": "light"
     },
     "output_type": "display_data"
    }
   ],
   "source": [
    "plot_sample(3)"
   ]
  },
  {
   "cell_type": "code",
   "execution_count": null,
   "metadata": {
    "colab": {
     "base_uri": "https://localhost:8080/"
    },
    "id": "Wqyx6nvUBzvP",
    "outputId": "7d17c2a4-3107-4a18-b246-c1ecd3a450aa"
   },
   "outputs": [
    {
     "data": {
      "text/plain": [
       "array([4], dtype=uint8)"
      ]
     },
     "execution_count": 16,
     "metadata": {},
     "output_type": "execute_result"
    }
   ],
   "source": [
    "y_train[3]"
   ]
  },
  {
   "cell_type": "code",
   "execution_count": null,
   "metadata": {
    "colab": {
     "base_uri": "https://localhost:8080/",
     "height": 35
    },
    "id": "kWkywURKCt3p",
    "outputId": "3853162b-4a28-4e74-bb9a-27728d39206a"
   },
   "outputs": [
    {
     "data": {
      "application/vnd.google.colaboratory.intrinsic+json": {
       "type": "string"
      },
      "text/plain": [
       "'deer'"
      ]
     },
     "execution_count": 17,
     "metadata": {},
     "output_type": "execute_result"
    }
   ],
   "source": [
    "classes[y_train[3][0]]"
   ]
  },
  {
   "cell_type": "code",
   "execution_count": null,
   "metadata": {
    "id": "rIOoB0v4Dx01"
   },
   "outputs": [],
   "source": [
    "x_train_scaled = x_train / 255\n",
    "x_test_scaled = x_test / 255"
   ]
  },
  {
   "cell_type": "code",
   "execution_count": null,
   "metadata": {
    "colab": {
     "base_uri": "https://localhost:8080/"
    },
    "id": "5PW4ypgSEVMT",
    "outputId": "1e643282-c000-40be-80d8-b48e1828d0cd"
   },
   "outputs": [
    {
     "data": {
      "text/plain": [
       "(50000, 32, 32, 3)"
      ]
     },
     "execution_count": 19,
     "metadata": {},
     "output_type": "execute_result"
    }
   ],
   "source": [
    "x_train_scaled.shape"
   ]
  },
  {
   "cell_type": "code",
   "execution_count": null,
   "metadata": {
    "colab": {
     "base_uri": "https://localhost:8080/"
    },
    "id": "tKLGoYu-Ea0Q",
    "outputId": "6e36d4a1-14a6-48a2-cd3e-c5b30fce0304"
   },
   "outputs": [
    {
     "data": {
      "text/plain": [
       "array([[6],\n",
       "       [9],\n",
       "       [9],\n",
       "       [4],\n",
       "       [1]], dtype=uint8)"
      ]
     },
     "execution_count": 20,
     "metadata": {},
     "output_type": "execute_result"
    }
   ],
   "source": [
    "y_train[:5]"
   ]
  },
  {
   "cell_type": "code",
   "execution_count": null,
   "metadata": {
    "colab": {
     "base_uri": "https://localhost:8080/"
    },
    "id": "3M1kQcBxEig4",
    "outputId": "f41dde34-cd05-490b-d847-e71e49c298c6"
   },
   "outputs": [
    {
     "data": {
      "text/plain": [
       "array([[0., 0., 0., 0., 0., 0., 1., 0., 0., 0.],\n",
       "       [0., 0., 0., 0., 0., 0., 0., 0., 0., 1.],\n",
       "       [0., 0., 0., 0., 0., 0., 0., 0., 0., 1.],\n",
       "       [0., 0., 0., 0., 1., 0., 0., 0., 0., 0.],\n",
       "       [0., 1., 0., 0., 0., 0., 0., 0., 0., 0.]], dtype=float32)"
      ]
     },
     "execution_count": 21,
     "metadata": {},
     "output_type": "execute_result"
    }
   ],
   "source": [
    "y_train_categorical = keras.utils.to_categorical(\n",
    "    y_train, num_classes = 10, dtype= 'float32'\n",
    ")\n",
    "y_train_categorical[:5]"
   ]
  },
  {
   "cell_type": "code",
   "execution_count": null,
   "metadata": {
    "id": "CkcPJpAVEkuH"
   },
   "outputs": [],
   "source": [
    "y_test_categorical = keras.utils.to_categorical(\n",
    "    y_test, num_classes = 10, dtype= 'float32'\n",
    ")"
   ]
  },
  {
   "cell_type": "code",
   "execution_count": null,
   "metadata": {
    "colab": {
     "base_uri": "https://localhost:8080/"
    },
    "id": "v-IY69ojHGgT",
    "outputId": "ba8c1b82-6860-4fbb-9274-8407a2f7259f"
   },
   "outputs": [
    {
     "data": {
      "text/plain": [
       "3072"
      ]
     },
     "execution_count": 23,
     "metadata": {},
     "output_type": "execute_result"
    }
   ],
   "source": [
    "#input layer size\n",
    "32*32*3"
   ]
  },
  {
   "cell_type": "code",
   "execution_count": null,
   "metadata": {
    "colab": {
     "base_uri": "https://localhost:8080/"
    },
    "id": "7YDt20kXHtv3",
    "outputId": "037b4c8b-94b0-4a60-da54-e2c8a7d864df"
   },
   "outputs": [
    {
     "data": {
      "text/plain": [
       "array([[6],\n",
       "       [9],\n",
       "       [9],\n",
       "       [4],\n",
       "       [1]], dtype=uint8)"
      ]
     },
     "execution_count": 24,
     "metadata": {},
     "output_type": "execute_result"
    }
   ],
   "source": [
    "#this is discrete values\n",
    "y_train[:5]"
   ]
  },
  {
   "cell_type": "code",
   "execution_count": null,
   "metadata": {
    "colab": {
     "base_uri": "https://localhost:8080/"
    },
    "id": "iHGmcts5H10x",
    "outputId": "cf427744-0cdc-4412-ce40-3d417ccd80d9"
   },
   "outputs": [
    {
     "data": {
      "text/plain": [
       "array([[0., 0., 0., 0., 0., 0., 1., 0., 0., 0.],\n",
       "       [0., 0., 0., 0., 0., 0., 0., 0., 0., 1.],\n",
       "       [0., 0., 0., 0., 0., 0., 0., 0., 0., 1.],\n",
       "       [0., 0., 0., 0., 1., 0., 0., 0., 0., 0.],\n",
       "       [0., 1., 0., 0., 0., 0., 0., 0., 0., 0.]], dtype=float32)"
      ]
     },
     "execution_count": 25,
     "metadata": {},
     "output_type": "execute_result"
    }
   ],
   "source": [
    "#one hot encoding\n",
    "y_train_categorical[:5]"
   ]
  },
  {
   "cell_type": "code",
   "execution_count": null,
   "metadata": {
    "colab": {
     "base_uri": "https://localhost:8080/"
    },
    "id": "cSGEOiAUFsaU",
    "outputId": "b361d5f8-4250-49b5-9019-464118ce15f9"
   },
   "outputs": [
    {
     "name": "stdout",
     "output_type": "stream",
     "text": [
      "Epoch 1/50\n",
      "1563/1563 [==============================] - 14s 6ms/step - loss: 1.8128 - accuracy: 0.3529\n",
      "Epoch 2/50\n",
      "1563/1563 [==============================] - 10s 6ms/step - loss: 1.6218 - accuracy: 0.4281\n",
      "Epoch 3/50\n",
      "1563/1563 [==============================] - 7s 4ms/step - loss: 1.5418 - accuracy: 0.4559\n",
      "Epoch 4/50\n",
      "1563/1563 [==============================] - 7s 5ms/step - loss: 1.4800 - accuracy: 0.4783\n",
      "Epoch 5/50\n",
      "1563/1563 [==============================] - 7s 4ms/step - loss: 1.4308 - accuracy: 0.4950\n",
      "Epoch 6/50\n",
      "1563/1563 [==============================] - 7s 4ms/step - loss: 1.3897 - accuracy: 0.5114\n",
      "Epoch 7/50\n",
      "1563/1563 [==============================] - 7s 5ms/step - loss: 1.3514 - accuracy: 0.5246\n",
      "Epoch 8/50\n",
      "1563/1563 [==============================] - 7s 5ms/step - loss: 1.3178 - accuracy: 0.5376\n",
      "Epoch 9/50\n",
      "1563/1563 [==============================] - 7s 5ms/step - loss: 1.2842 - accuracy: 0.5499\n",
      "Epoch 10/50\n",
      "1563/1563 [==============================] - 7s 4ms/step - loss: 1.2551 - accuracy: 0.5609\n",
      "Epoch 11/50\n",
      "1563/1563 [==============================] - 7s 4ms/step - loss: 1.2265 - accuracy: 0.5697\n",
      "Epoch 12/50\n",
      "1563/1563 [==============================] - 7s 4ms/step - loss: 1.1963 - accuracy: 0.5800\n",
      "Epoch 13/50\n",
      "1563/1563 [==============================] - 7s 5ms/step - loss: 1.1694 - accuracy: 0.5919\n",
      "Epoch 14/50\n",
      "1563/1563 [==============================] - 7s 5ms/step - loss: 1.1403 - accuracy: 0.6024\n",
      "Epoch 15/50\n",
      "1563/1563 [==============================] - 7s 4ms/step - loss: 1.1150 - accuracy: 0.6104\n",
      "Epoch 16/50\n",
      "1563/1563 [==============================] - 7s 4ms/step - loss: 1.0859 - accuracy: 0.6219\n",
      "Epoch 17/50\n",
      "1563/1563 [==============================] - 7s 4ms/step - loss: 1.0607 - accuracy: 0.6308\n",
      "Epoch 18/50\n",
      "1563/1563 [==============================] - 7s 5ms/step - loss: 1.0378 - accuracy: 0.6385\n",
      "Epoch 19/50\n",
      "1563/1563 [==============================] - 7s 4ms/step - loss: 1.0105 - accuracy: 0.6486\n",
      "Epoch 20/50\n",
      "1563/1563 [==============================] - 7s 4ms/step - loss: 0.9848 - accuracy: 0.6597\n",
      "Epoch 21/50\n",
      "1563/1563 [==============================] - 7s 5ms/step - loss: 0.9565 - accuracy: 0.6670\n",
      "Epoch 22/50\n",
      "1563/1563 [==============================] - 7s 4ms/step - loss: 0.9330 - accuracy: 0.6790\n",
      "Epoch 23/50\n",
      "1563/1563 [==============================] - 7s 5ms/step - loss: 0.9059 - accuracy: 0.6889\n",
      "Epoch 24/50\n",
      "1563/1563 [==============================] - 7s 4ms/step - loss: 0.8810 - accuracy: 0.6961\n",
      "Epoch 25/50\n",
      "1563/1563 [==============================] - 7s 5ms/step - loss: 0.8548 - accuracy: 0.7064\n",
      "Epoch 26/50\n",
      "1563/1563 [==============================] - 7s 4ms/step - loss: 0.8291 - accuracy: 0.7148\n",
      "Epoch 27/50\n",
      "1563/1563 [==============================] - 7s 4ms/step - loss: 0.8044 - accuracy: 0.7243\n",
      "Epoch 28/50\n",
      "1563/1563 [==============================] - 7s 5ms/step - loss: 0.7802 - accuracy: 0.7329\n",
      "Epoch 29/50\n",
      "1563/1563 [==============================] - 7s 4ms/step - loss: 0.7527 - accuracy: 0.7434\n",
      "Epoch 30/50\n",
      "1563/1563 [==============================] - 7s 4ms/step - loss: 0.7331 - accuracy: 0.7505\n",
      "Epoch 31/50\n",
      "1563/1563 [==============================] - 7s 4ms/step - loss: 0.7059 - accuracy: 0.7608\n",
      "Epoch 32/50\n",
      "1563/1563 [==============================] - 7s 5ms/step - loss: 0.6802 - accuracy: 0.7692\n",
      "Epoch 33/50\n",
      "1563/1563 [==============================] - 7s 4ms/step - loss: 0.6551 - accuracy: 0.7790\n",
      "Epoch 34/50\n",
      "1563/1563 [==============================] - 7s 4ms/step - loss: 0.6274 - accuracy: 0.7887\n",
      "Epoch 35/50\n",
      "1563/1563 [==============================] - 7s 5ms/step - loss: 0.6096 - accuracy: 0.7968\n",
      "Epoch 36/50\n",
      "1563/1563 [==============================] - 7s 4ms/step - loss: 0.5876 - accuracy: 0.8033\n",
      "Epoch 37/50\n",
      "1563/1563 [==============================] - 7s 5ms/step - loss: 0.5609 - accuracy: 0.8127\n",
      "Epoch 38/50\n",
      "1563/1563 [==============================] - 7s 4ms/step - loss: 0.5349 - accuracy: 0.8236\n",
      "Epoch 39/50\n",
      "1563/1563 [==============================] - 7s 5ms/step - loss: 0.5169 - accuracy: 0.8307\n",
      "Epoch 40/50\n",
      "1563/1563 [==============================] - 7s 4ms/step - loss: 0.4932 - accuracy: 0.8385\n",
      "Epoch 41/50\n",
      "1563/1563 [==============================] - 7s 4ms/step - loss: 0.4674 - accuracy: 0.8490\n",
      "Epoch 42/50\n",
      "1563/1563 [==============================] - 7s 5ms/step - loss: 0.4488 - accuracy: 0.8560\n",
      "Epoch 43/50\n",
      "1563/1563 [==============================] - 7s 4ms/step - loss: 0.4257 - accuracy: 0.8628\n",
      "Epoch 44/50\n",
      "1563/1563 [==============================] - 8s 5ms/step - loss: 0.4068 - accuracy: 0.8708\n",
      "Epoch 45/50\n",
      "1563/1563 [==============================] - 7s 4ms/step - loss: 0.3843 - accuracy: 0.8780\n",
      "Epoch 46/50\n",
      "1563/1563 [==============================] - 7s 5ms/step - loss: 0.3647 - accuracy: 0.8866\n",
      "Epoch 47/50\n",
      "1563/1563 [==============================] - 7s 4ms/step - loss: 0.3491 - accuracy: 0.8901\n",
      "Epoch 48/50\n",
      "1563/1563 [==============================] - 7s 5ms/step - loss: 0.3303 - accuracy: 0.8982\n",
      "Epoch 49/50\n",
      "1563/1563 [==============================] - 7s 4ms/step - loss: 0.3125 - accuracy: 0.9045\n",
      "Epoch 50/50\n",
      "1563/1563 [==============================] - 7s 4ms/step - loss: 0.2953 - accuracy: 0.9112\n"
     ]
    },
    {
     "data": {
      "text/plain": [
       "<keras.callbacks.History at 0x7f256410df10>"
      ]
     },
     "execution_count": 26,
     "metadata": {},
     "output_type": "execute_result"
    }
   ],
   "source": [
    "model = keras.Sequential([\n",
    "    keras.layers.Flatten(input_shape = (32,32,3)),\n",
    "    keras.layers.Dense(3000, activation = 'relu'),\n",
    "    keras.layers.Dense(1000, activation = 'relu'),\n",
    "    keras.layers.Dense(10, activation = 'sigmoid')\n",
    "\n",
    "])\n",
    "\n",
    "model.compile(optimizer = 'SGD',\n",
    "              loss = 'categorical_crossentropy',\n",
    "              metrics = ['accuracy'])\n",
    "\n",
    "model.fit(x_train_scaled, y_train_categorical, epochs = 50)"
   ]
  },
  {
   "cell_type": "code",
   "execution_count": null,
   "metadata": {
    "colab": {
     "base_uri": "https://localhost:8080/"
    },
    "id": "4lVAu0nxFsyp",
    "outputId": "324e2661-e72e-41ac-a211-375e8e93f296"
   },
   "outputs": [
    {
     "name": "stdout",
     "output_type": "stream",
     "text": [
      "313/313 [==============================] - 1s 2ms/step\n"
     ]
    },
    {
     "data": {
      "text/plain": [
       "array([0.14112   , 0.4530073 , 0.40196314, 0.9996288 , 0.99080104,\n",
       "       0.93649447, 0.10380525, 0.00103601, 0.42338923, 0.04047692],\n",
       "      dtype=float32)"
      ]
     },
     "execution_count": 27,
     "metadata": {},
     "output_type": "execute_result"
    }
   ],
   "source": [
    "model.predict(x_test_scaled)[0]"
   ]
  },
  {
   "cell_type": "code",
   "execution_count": null,
   "metadata": {
    "colab": {
     "base_uri": "https://localhost:8080/",
     "height": 53
    },
    "id": "clpPLt6rfWKl",
    "outputId": "07e3d495-4429-4ba7-80e7-c6c4e85144d5"
   },
   "outputs": [
    {
     "name": "stdout",
     "output_type": "stream",
     "text": [
      "313/313 [==============================] - 1s 2ms/step\n"
     ]
    },
    {
     "data": {
      "application/vnd.google.colaboratory.intrinsic+json": {
       "type": "string"
      },
      "text/plain": [
       "'ship'"
      ]
     },
     "execution_count": 33,
     "metadata": {},
     "output_type": "execute_result"
    }
   ],
   "source": [
    "classes[np.argmax(model.predict(x_test_scaled)[1])]"
   ]
  },
  {
   "cell_type": "code",
   "execution_count": null,
   "metadata": {
    "colab": {
     "base_uri": "https://localhost:8080/",
     "height": 35
    },
    "id": "w6iOL504JM41",
    "outputId": "62b0e330-86fc-464e-84d4-a5a77096af3f"
   },
   "outputs": [
    {
     "data": {
      "application/vnd.google.colaboratory.intrinsic+json": {
       "type": "string"
      },
      "text/plain": [
       "'ship'"
      ]
     },
     "execution_count": 31,
     "metadata": {},
     "output_type": "execute_result"
    }
   ],
   "source": [
    "classes[y_test[1][0]]"
   ]
  },
  {
   "cell_type": "code",
   "execution_count": null,
   "metadata": {
    "colab": {
     "base_uri": "https://localhost:8080/"
    },
    "id": "wFf9Z5BPhuwQ",
    "outputId": "60ab7d31-2f99-4973-a429-c65afe6f3944"
   },
   "outputs": [
    {
     "name": "stdout",
     "output_type": "stream",
     "text": [
      "313/313 [==============================] - 1s 3ms/step - loss: 1.6726 - accuracy: 0.5491\n"
     ]
    },
    {
     "data": {
      "text/plain": [
       "[1.6726125478744507, 0.5490999817848206]"
      ]
     },
     "execution_count": 34,
     "metadata": {},
     "output_type": "execute_result"
    }
   ],
   "source": [
    "model.evaluate(x_test_scaled, y_test_categorical)"
   ]
  },
  {
   "cell_type": "code",
   "execution_count": null,
   "metadata": {
    "id": "VeNr9JHChvX2"
   },
   "outputs": [],
   "source": [
    "def get_model():\n",
    "  model = keras.Sequential([\n",
    "    keras.layers.Flatten(input_shape = (32,32,3)),\n",
    "    keras.layers.Dense(3000, activation = 'relu'),\n",
    "    keras.layers.Dense(1000, activation = 'relu'),\n",
    "    keras.layers.Dense(10, activation = 'sigmoid')\n",
    "\n",
    "  ])\n",
    "\n",
    "  model.compile(optimizer = 'SGD',\n",
    "            loss = 'categorical_crossentropy',\n",
    "          metrics = ['accuracy'])\n",
    "  return model\n"
   ]
  },
  {
   "cell_type": "code",
   "execution_count": null,
   "metadata": {
    "colab": {
     "base_uri": "https://localhost:8080/"
    },
    "id": "Yivm1UMSJgY5",
    "outputId": "a3c06189-2233-4da0-e594-41c4f4f8bb46"
   },
   "outputs": [
    {
     "name": "stdout",
     "output_type": "stream",
     "text": [
      "1563/1563 [==============================] - 131s 83ms/step - loss: 1.8101 - accuracy: 0.3530\n",
      "2min 23s ± 0 ns per loop (mean ± std. dev. of 1 run, 1 loop each)\n"
     ]
    }
   ],
   "source": [
    "%%timeit -n1 -r1\n",
    "with tf.device('/CPU:0'):\n",
    "  cpu_model = get_model()\n",
    "  cpu_model.fit(x_train_scaled, y_train_categorical, epochs = 1)"
   ]
  },
  {
   "cell_type": "code",
   "execution_count": null,
   "metadata": {
    "colab": {
     "base_uri": "https://localhost:8080/"
    },
    "id": "sRx7bTBbp6Cg",
    "outputId": "ce6285e1-08de-4835-958c-3879fdd05f85"
   },
   "outputs": [
    {
     "name": "stdout",
     "output_type": "stream",
     "text": [
      "1563/1563 [==============================] - 8s 5ms/step - loss: 1.8093 - accuracy: 0.3567\n",
      "12.2 s ± 0 ns per loop (mean ± std. dev. of 1 run, 1 loop each)\n"
     ]
    }
   ],
   "source": [
    "%%timeit -n1 -r1\n",
    "with tf.device('/GPU:0'):\n",
    "  cpu_model = get_model()\n",
    "  cpu_model.fit(x_train_scaled, y_train_categorical, epochs = 1)"
   ]
  },
  {
   "cell_type": "code",
   "execution_count": null,
   "metadata": {
    "colab": {
     "base_uri": "https://localhost:8080/"
    },
    "id": "l1t9sS1IsV_7",
    "outputId": "d3724832-1ce3-4abd-c1d5-78b03efc94e2"
   },
   "outputs": [
    {
     "name": "stdout",
     "output_type": "stream",
     "text": [
      "Epoch 1/10\n",
      "1563/1563 [==============================] - 126s 80ms/step - loss: 1.8099 - accuracy: 0.3538\n",
      "Epoch 2/10\n",
      "1563/1563 [==============================] - 126s 81ms/step - loss: 1.6223 - accuracy: 0.4287\n",
      "Epoch 3/10\n",
      "1563/1563 [==============================] - 126s 81ms/step - loss: 1.5438 - accuracy: 0.4572\n",
      "Epoch 4/10\n",
      "1563/1563 [==============================] - 127s 81ms/step - loss: 1.4819 - accuracy: 0.4771\n",
      "Epoch 5/10\n",
      "1563/1563 [==============================] - 127s 81ms/step - loss: 1.4322 - accuracy: 0.4964\n",
      "Epoch 6/10\n",
      "1563/1563 [==============================] - 125s 80ms/step - loss: 1.3882 - accuracy: 0.5135\n",
      "Epoch 7/10\n",
      "1563/1563 [==============================] - 126s 81ms/step - loss: 1.3532 - accuracy: 0.5263\n",
      "Epoch 8/10\n",
      "1563/1563 [==============================] - 125s 80ms/step - loss: 1.3186 - accuracy: 0.5374\n",
      "Epoch 9/10\n",
      "1563/1563 [==============================] - 127s 81ms/step - loss: 1.2844 - accuracy: 0.5489\n",
      "Epoch 10/10\n",
      "1563/1563 [==============================] - 125s 80ms/step - loss: 1.2529 - accuracy: 0.5606\n",
      "21min 23s ± 0 ns per loop (mean ± std. dev. of 1 run, 1 loop each)\n"
     ]
    }
   ],
   "source": [
    "%%timeit -n1 -r1\n",
    "with tf.device('/CPU:0'):\n",
    "  cpu_model = get_model()\n",
    "  cpu_model.fit(x_train_scaled, y_train_categorical, epochs = 10)"
   ]
  },
  {
   "cell_type": "code",
   "execution_count": null,
   "metadata": {
    "colab": {
     "base_uri": "https://localhost:8080/"
    },
    "id": "FqCbKTw8sXBh",
    "outputId": "138468b5-a379-48fa-8796-05e3f7155177"
   },
   "outputs": [
    {
     "name": "stdout",
     "output_type": "stream",
     "text": [
      "Epoch 1/10\n",
      "1563/1563 [==============================] - 8s 5ms/step - loss: 1.8112 - accuracy: 0.3582\n",
      "Epoch 2/10\n",
      "1563/1563 [==============================] - 7s 5ms/step - loss: 1.6198 - accuracy: 0.4264\n",
      "Epoch 3/10\n",
      "1563/1563 [==============================] - 7s 4ms/step - loss: 1.5401 - accuracy: 0.4573\n",
      "Epoch 4/10\n",
      "1563/1563 [==============================] - 7s 5ms/step - loss: 1.4820 - accuracy: 0.4793\n",
      "Epoch 5/10\n",
      "1563/1563 [==============================] - 7s 4ms/step - loss: 1.4304 - accuracy: 0.4971\n",
      "Epoch 6/10\n",
      "1563/1563 [==============================] - 7s 5ms/step - loss: 1.3859 - accuracy: 0.5125\n",
      "Epoch 7/10\n",
      "1563/1563 [==============================] - 7s 4ms/step - loss: 1.3513 - accuracy: 0.5250\n",
      "Epoch 8/10\n",
      "1563/1563 [==============================] - 7s 5ms/step - loss: 1.3159 - accuracy: 0.5384\n",
      "Epoch 9/10\n",
      "1563/1563 [==============================] - 7s 5ms/step - loss: 1.2814 - accuracy: 0.5507\n",
      "Epoch 10/10\n",
      "1563/1563 [==============================] - 7s 4ms/step - loss: 1.2497 - accuracy: 0.5625\n",
      "1min 23s ± 0 ns per loop (mean ± std. dev. of 1 run, 1 loop each)\n"
     ]
    }
   ],
   "source": [
    "%%timeit -n1 -r1\n",
    "with tf.device('/GPU:0'):\n",
    "  cpu_model = get_model()\n",
    "  cpu_model.fit(x_train_scaled, y_train_categorical, epochs = 10)"
   ]
  }
 ],
 "metadata": {
  "accelerator": "GPU",
  "colab": {
   "provenance": []
  },
  "gpuClass": "standard",
  "kernelspec": {
   "display_name": "Python 3",
   "name": "python3"
  },
  "language_info": {
   "name": "python"
  }
 },
 "nbformat": 4,
 "nbformat_minor": 0
}
