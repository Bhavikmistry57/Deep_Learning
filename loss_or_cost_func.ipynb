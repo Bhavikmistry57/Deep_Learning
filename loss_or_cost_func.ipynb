{
 "cells": [
  {
   "cell_type": "code",
   "execution_count": 5,
   "id": "8415255e",
   "metadata": {},
   "outputs": [],
   "source": [
    "import numpy as np\n",
    "\n",
    "y_predicted = np.array([1,1,0,0,1])\n",
    "y_true = np.array([0.3,0.7,1,0,0.5])"
   ]
  },
  {
   "cell_type": "code",
   "execution_count": 6,
   "id": "7c616ba6",
   "metadata": {},
   "outputs": [],
   "source": [
    "# Mean Absolute Error loss function\n",
    "def mae(y_ture,y_predicted):\n",
    "    total_error = 0\n",
    "    for yt,yp in zip(y_true,y_predicted):\n",
    "        total_error += abs(yt-yp)\n",
    "    print(\"total_error:\",total_error)\n",
    "    \n",
    "    mae = total_error/len(y_true)\n",
    "    print(\"MAE:\",mae)\n",
    "    return mae"
   ]
  },
  {
   "cell_type": "code",
   "execution_count": 7,
   "id": "3c5068dd",
   "metadata": {},
   "outputs": [
    {
     "name": "stdout",
     "output_type": "stream",
     "text": [
      "total_error: 2.5\n",
      "MAE: 0.5\n"
     ]
    },
    {
     "data": {
      "text/plain": [
       "0.5"
      ]
     },
     "execution_count": 7,
     "metadata": {},
     "output_type": "execute_result"
    }
   ],
   "source": [
    "mae(y_true, y_predicted)"
   ]
  },
  {
   "cell_type": "code",
   "execution_count": 8,
   "id": "de24ddbc",
   "metadata": {},
   "outputs": [
    {
     "data": {
      "text/plain": [
       "0.5"
      ]
     },
     "execution_count": 8,
     "metadata": {},
     "output_type": "execute_result"
    }
   ],
   "source": [
    "np.mean(np.abs(y_true - y_predicted))"
   ]
  },
  {
   "cell_type": "code",
   "execution_count": 24,
   "id": "bd3f2e68",
   "metadata": {},
   "outputs": [],
   "source": [
    "# Mean Squared Error loss function\n",
    "def mse(y_ture,y_predicted):\n",
    "    total_error = 0\n",
    "    for yt,yp in zip(y_true,y_predicted):\n",
    "        total_error += abs(yt-yp)**2\n",
    "    print(\"total_error:\",total_error)\n",
    "    \n",
    "    mae = total_error/len(y_true)\n",
    "    print(\"MSE:\",mae)\n",
    "    return mae"
   ]
  },
  {
   "cell_type": "code",
   "execution_count": 25,
   "id": "e676b6bd",
   "metadata": {
    "scrolled": true
   },
   "outputs": [
    {
     "name": "stdout",
     "output_type": "stream",
     "text": [
      "total_error: 1.83\n",
      "MSE: 0.366\n"
     ]
    },
    {
     "data": {
      "text/plain": [
       "0.366"
      ]
     },
     "execution_count": 25,
     "metadata": {},
     "output_type": "execute_result"
    }
   ],
   "source": [
    "mse(y_true, y_predicted)"
   ]
  },
  {
   "cell_type": "code",
   "execution_count": 26,
   "id": "9b4dfd38",
   "metadata": {},
   "outputs": [
    {
     "data": {
      "text/plain": [
       "0.366"
      ]
     },
     "execution_count": 26,
     "metadata": {},
     "output_type": "execute_result"
    }
   ],
   "source": [
    "np.mean(np.square(y_true-y_predicted))"
   ]
  },
  {
   "cell_type": "code",
   "execution_count": 10,
   "id": "c8879835",
   "metadata": {},
   "outputs": [
    {
     "data": {
      "text/plain": [
       "array([-34.53877639])"
      ]
     },
     "execution_count": 10,
     "metadata": {},
     "output_type": "execute_result"
    }
   ],
   "source": [
    "#log loss Function/ Binarycrossentropy\n",
    "np.log([0.000000000000001])"
   ]
  },
  {
   "cell_type": "code",
   "execution_count": 16,
   "id": "55e11047",
   "metadata": {},
   "outputs": [],
   "source": [
    "epsilon = 1e-15"
   ]
  },
  {
   "cell_type": "code",
   "execution_count": 18,
   "id": "2cd116a1",
   "metadata": {},
   "outputs": [
    {
     "data": {
      "text/plain": [
       "[1, 1, 1e-15, 1e-15, 1]"
      ]
     },
     "execution_count": 18,
     "metadata": {},
     "output_type": "execute_result"
    }
   ],
   "source": [
    "y_predicted_new = [max(i,epsilon) for i in y_predicted]\n",
    "y_predicted_new"
   ]
  },
  {
   "cell_type": "code",
   "execution_count": 19,
   "id": "395af6de",
   "metadata": {},
   "outputs": [
    {
     "data": {
      "text/plain": [
       "[0.999999999999999, 0.999999999999999, 1e-15, 1e-15, 0.999999999999999]"
      ]
     },
     "execution_count": 19,
     "metadata": {},
     "output_type": "execute_result"
    }
   ],
   "source": [
    "y_predicted_new = [min(i,1-epsilon) for i in y_predicted_new]\n",
    "y_predicted_new"
   ]
  },
  {
   "cell_type": "code",
   "execution_count": 20,
   "id": "4fd82c87",
   "metadata": {},
   "outputs": [
    {
     "data": {
      "text/plain": [
       "array([-9.99200722e-16, -9.99200722e-16, -3.45387764e+01, -3.45387764e+01,\n",
       "       -9.99200722e-16])"
      ]
     },
     "execution_count": 20,
     "metadata": {},
     "output_type": "execute_result"
    }
   ],
   "source": [
    "y_predicted_new = np.array(y_predicted_new)\n",
    "np.log(y_predicted_new)"
   ]
  },
  {
   "cell_type": "code",
   "execution_count": 21,
   "id": "70cb0f8d",
   "metadata": {},
   "outputs": [
    {
     "data": {
      "text/plain": [
       "17.2696280766844"
      ]
     },
     "execution_count": 21,
     "metadata": {},
     "output_type": "execute_result"
    }
   ],
   "source": [
    "-np.mean(y_true*np.log(y_predicted_new)+(1-y_true)*np.log(1-y_predicted_new))"
   ]
  },
  {
   "cell_type": "code",
   "execution_count": 22,
   "id": "049503e5",
   "metadata": {},
   "outputs": [],
   "source": [
    "def log_loss(y_true, y_predicted):\n",
    "    y_predicted_new = [max(i,epsilon) for i in y_predicted]\n",
    "    y_predicted_new = [min(i,1-epsilon) for i in y_predicted_new]\n",
    "    y_predicted_new = np.array(y_predicted_new)\n",
    "    return -np.mean(y_true*np.log(y_predicted_new)+(1-y_true)*np.log(1-y_predicted_new))"
   ]
  },
  {
   "cell_type": "code",
   "execution_count": 23,
   "id": "22b59f93",
   "metadata": {},
   "outputs": [
    {
     "data": {
      "text/plain": [
       "17.2696280766844"
      ]
     },
     "execution_count": 23,
     "metadata": {},
     "output_type": "execute_result"
    }
   ],
   "source": [
    "log_loss(y_true, y_predicted)"
   ]
  },
  {
   "cell_type": "code",
   "execution_count": null,
   "id": "8008848d",
   "metadata": {},
   "outputs": [],
   "source": []
  }
 ],
 "metadata": {
  "kernelspec": {
   "display_name": "dplearning_env",
   "language": "python",
   "name": "dplearning_env"
  },
  "language_info": {
   "codemirror_mode": {
    "name": "ipython",
    "version": 3
   },
   "file_extension": ".py",
   "mimetype": "text/x-python",
   "name": "python",
   "nbconvert_exporter": "python",
   "pygments_lexer": "ipython3",
   "version": "3.6.9"
  }
 },
 "nbformat": 4,
 "nbformat_minor": 5
}
